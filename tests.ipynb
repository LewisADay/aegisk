{
 "cells": [
  {
   "cell_type": "code",
   "execution_count": 1,
   "id": "d48c7dae",
   "metadata": {},
   "outputs": [
    {
     "name": "stderr",
     "output_type": "stream",
     "text": [
      "/home/lewis/anaconda3/envs/mp/lib/python3.10/site-packages/tqdm/auto.py:22: TqdmWarning: IProgress not found. Please update jupyter and ipywidgets. See https://ipywidgets.readthedocs.io/en/stable/user_install.html\n",
      "  from .autonotebook import tqdm as notebook_tqdm\n"
     ]
    },
    {
     "name": "stdout",
     "output_type": "stream",
     "text": [
      "File exists, skipping: data/Forrester_001.pt\n",
      "Loading saved run\n",
      "results/async_negcorr_50_workers=5_BatchTS_Forrester_run=001.pt\n",
      "Training data shape: torch.Size([50, 1])\n",
      "Finished run\n"
     ]
    }
   ],
   "source": [
    "from aegis.optim import perform_optimisation\n",
    "from aegis.test_problems.synthetic_problems import Forrester\n",
    "from aegis.time_dists import *\n",
    "from aegis.batch import BatchTS\n",
    "from aegis.gen_training_data import generate_training_data_LHS\n",
    "\n",
    "n_workers = 5\n",
    "prob_function = Forrester\n",
    "time_functions = {\"const\":consttime(),\n",
    "                  \"gauss\":gausstime(prob_function(), scale=0.1),\n",
    "                  \"corr\":corrtime(prob_function()),\n",
    "                  \"negcorr\":negcorrtime(prob_function())}\n",
    "time_function = time_functions[\"negcorr\"]\n",
    "acq_function = BatchTS\n",
    "#acq_params = {\"epsilon\":0.1, \"eta\":0.1, \"n_workers\":n_workers, \"n_features\":2000}\n",
    "acq_params = {}\n",
    "\n",
    "problem_dim = prob_function().dim\n",
    "acq_params = {\n",
    "        \"n_opt_samples\": problem_dim * 1000,\n",
    "        \"n_opt_bfgs\": 10,\n",
    "    }\n",
    "\n",
    "generate_training_data_LHS(prob_function, n_exp_start=1, n_exp_end=1)\n",
    "\n",
    "perform_optimisation(prob_function, {}, 1, 50, n_workers, acq_function, acq_params, time_function)"
   ]
  },
  {
   "cell_type": "code",
   "execution_count": 4,
   "id": "5be41cb0",
   "metadata": {},
   "outputs": [
    {
     "data": {
      "text/plain": [
       "[Text(0.5, 1.0, 'Problem Function')]"
      ]
     },
     "execution_count": 4,
     "metadata": {},
     "output_type": "execute_result"
    },
    {
     "data": {
      "image/png": "[encoded data removed]",
      "text/plain": [
       "<Figure size 432x288 with 2 Axes>"
      ]
     },
     "metadata": {
      "needs_background": "light"
     },
     "output_type": "display_data"
    }
   ],
   "source": [
    "import matplotlib.pyplot as plt\n",
    "import torch\n",
    "import aegis.util as util\n",
    "\n",
    "prob_function = Forrester\n",
    "time_functions = {\"const\":consttime(),\n",
    "                  \"gauss\":gausstime(prob_function(), scale=0.1),\n",
    "                  \"corr\":corrtime(prob_function()),\n",
    "                  \"negcorr\":negcorrtime(prob_function())}\n",
    "\n",
    "time_function = time_functions[\"negcorr\"]\n",
    "\n",
    "fig, axs = plt.subplots(2, sharex='all')\n",
    "\n",
    "prob_function = prob_function()\n",
    "\n",
    "x = np.arange(prob_function.lb, prob_function.ub, 0.001)\n",
    "axs[0].plot(x, time_function(x))\n",
    "axs[0].set(title=\"Time Function\")\n",
    "\n",
    "data = torch.load(\"results/async_negcorr_50_workers=5_BatchTS_Forrester_run=001.pt\")\n",
    "X = data[\"Xtr\"]\n",
    "Y = data[\"Ytr\"]\n",
    "\n",
    "axs[1].plot(x, prob_function(x))\n",
    "axs[1].scatter(X,Y)\n",
    "axs[1].set(title=\"Problem Function\")\n"
   ]
  },
  {
   "cell_type": "code",
   "execution_count": null,
   "id": "d71a1ae6",
   "metadata": {},
   "outputs": [],
   "source": [
    "## Create a gp here and figure out how to get the variance/std deviation and mean from it, based on the above data"
   ]
  }
 ],
 "metadata": {
  "interpreter": {
   "hash": "ac608b0de6d2b57ba453bbd118ae2874d3e13293c2f8b66759dd4b1be647c6fb"
  },
  "kernelspec": {
   "display_name": "Python 3.10.4 ('mp')",
   "language": "python",
   "name": "python3"
  },
  "language_info": {
   "codemirror_mode": {
    "name": "ipython",
    "version": 3
   },
   "file_extension": ".py",
   "mimetype": "text/x-python",
   "name": "python",
   "nbconvert_exporter": "python",
   "pygments_lexer": "ipython3",
   "version": "3.10.4"
  }
 },
 "nbformat": 4,
 "nbformat_minor": 5
}

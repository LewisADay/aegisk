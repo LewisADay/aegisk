{
 "cells": [
  {
   "cell_type": "code",
   "execution_count": 1,
   "metadata": {},
   "outputs": [],
   "source": [
    "%reload_ext autoreload\n",
    "%autoreload 2"
   ]
  },
  {
   "cell_type": "code",
   "execution_count": null,
   "metadata": {},
   "outputs": [],
   "source": [
    "\n",
    "import botorch\n",
    "import torch\n",
    "import gpytorch\n",
    "import numpy as np\n",
    "\n",
    "best_f = 0.2\n",
    "\n",
    "EI = lambda model: botorch.acquisition.analytic.ExpectedImprovement(model, best_f)\n"
   ]
  }
 ],
 "metadata": {
  "interpreter": {
   "hash": "ac608b0de6d2b57ba453bbd118ae2874d3e13293c2f8b66759dd4b1be647c6fb"
  },
  "kernelspec": {
   "display_name": "Python 3.10.4 ('mp')",
   "language": "python",
   "name": "python3"
  },
  "language_info": {
   "codemirror_mode": {
    "name": "ipython",
    "version": 3
   },
   "file_extension": ".py",
   "mimetype": "text/x-python",
   "name": "python",
   "nbconvert_exporter": "python",
   "pygments_lexer": "ipython3",
   "version": "3.10.4"
  },
  "orig_nbformat": 4
 },
 "nbformat": 4,
 "nbformat_minor": 2
}

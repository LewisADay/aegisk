{
 "cells": [
  {
   "cell_type": "code",
   "execution_count": 2,
   "metadata": {},
   "outputs": [],
   "source": [
    "%reload_ext autoreload\n",
    "%autoreload 2"
   ]
  },
  {
   "cell_type": "code",
   "execution_count": 1,
   "metadata": {},
   "outputs": [],
   "source": [
    "# Optimisation parameters\n",
    "problem_name = \"Forrester\"\n",
    "problem_params = {}\n",
    "time_name = \"negcorrtime\"\n",
    "n_workers = 1\n",
    "acq_name = \"LocalPenalisationBatchBO\"\n",
    "bo_name = \"AsyncProblemDepentantBO\"\n",
    "run_no = 1\n",
    "budget = 1000\n",
    "\n",
    "acq_params = {\n",
    "    \"n_opt_samples\": 1 * 1000,\n",
    "    \"n_opt_bfgs\": 10,\n",
    "    \"acq_name\": \"EI\",\n",
    "}\n",
    "\n",
    "# Left as defaults\n",
    "save_every = 10\n",
    "repeat_no = None"
   ]
  },
  {
   "cell_type": "code",
   "execution_count": 4,
   "metadata": {},
   "outputs": [
    {
     "ename": "KeyError",
     "evalue": "'acq_name'",
     "output_type": "error",
     "traceback": [
      "\u001b[0;31m---------------------------------------------------------------------------\u001b[0m",
      "\u001b[0;31mKeyError\u001b[0m                                  Traceback (most recent call last)",
      "\u001b[1;32m/home/lewis/Documents/MastersProject/aegisk/stepbystep.ipynb Cell 3'\u001b[0m in \u001b[0;36m<cell line: 7>\u001b[0;34m()\u001b[0m\n\u001b[1;32m      <a href='vscode-notebook-cell:/home/lewis/Documents/MastersProject/aegisk/stepbystep.ipynb#ch0000002?line=3'>4</a>\u001b[0m \u001b[39mfrom\u001b[39;00m \u001b[39maegis\u001b[39;00m \u001b[39mimport\u001b[39;00m test_problems, time_dists, batch, optim\n\u001b[1;32m      <a href='vscode-notebook-cell:/home/lewis/Documents/MastersProject/aegisk/stepbystep.ipynb#ch0000002?line=5'>6</a>\u001b[0m \u001b[39m# set up the saving paths\u001b[39;00m\n\u001b[0;32m----> <a href='vscode-notebook-cell:/home/lewis/Documents/MastersProject/aegisk/stepbystep.ipynb#ch0000002?line=6'>7</a>\u001b[0m save_path \u001b[39m=\u001b[39m aegis\u001b[39m.\u001b[39;49mutil\u001b[39m.\u001b[39;49mgenerate_save_filename(\n\u001b[1;32m      <a href='vscode-notebook-cell:/home/lewis/Documents/MastersProject/aegisk/stepbystep.ipynb#ch0000002?line=7'>8</a>\u001b[0m     time_name,\n\u001b[1;32m      <a href='vscode-notebook-cell:/home/lewis/Documents/MastersProject/aegisk/stepbystep.ipynb#ch0000002?line=8'>9</a>\u001b[0m     problem_name,\n\u001b[1;32m     <a href='vscode-notebook-cell:/home/lewis/Documents/MastersProject/aegisk/stepbystep.ipynb#ch0000002?line=9'>10</a>\u001b[0m     budget,\n\u001b[1;32m     <a href='vscode-notebook-cell:/home/lewis/Documents/MastersProject/aegisk/stepbystep.ipynb#ch0000002?line=10'>11</a>\u001b[0m     n_workers,\n\u001b[1;32m     <a href='vscode-notebook-cell:/home/lewis/Documents/MastersProject/aegisk/stepbystep.ipynb#ch0000002?line=11'>12</a>\u001b[0m     acq_name,\n\u001b[1;32m     <a href='vscode-notebook-cell:/home/lewis/Documents/MastersProject/aegisk/stepbystep.ipynb#ch0000002?line=12'>13</a>\u001b[0m     run_no,\n\u001b[1;32m     <a href='vscode-notebook-cell:/home/lewis/Documents/MastersProject/aegisk/stepbystep.ipynb#ch0000002?line=13'>14</a>\u001b[0m     bo_name,\n\u001b[1;32m     <a href='vscode-notebook-cell:/home/lewis/Documents/MastersProject/aegisk/stepbystep.ipynb#ch0000002?line=14'>15</a>\u001b[0m     problem_params,\n\u001b[1;32m     <a href='vscode-notebook-cell:/home/lewis/Documents/MastersProject/aegisk/stepbystep.ipynb#ch0000002?line=15'>16</a>\u001b[0m     acq_params,\n\u001b[1;32m     <a href='vscode-notebook-cell:/home/lewis/Documents/MastersProject/aegisk/stepbystep.ipynb#ch0000002?line=16'>17</a>\u001b[0m     repeat_no\u001b[39m=\u001b[39;49mrepeat_no,\n\u001b[1;32m     <a href='vscode-notebook-cell:/home/lewis/Documents/MastersProject/aegisk/stepbystep.ipynb#ch0000002?line=17'>18</a>\u001b[0m )\n\u001b[1;32m     <a href='vscode-notebook-cell:/home/lewis/Documents/MastersProject/aegisk/stepbystep.ipynb#ch0000002?line=19'>20</a>\u001b[0m \u001b[39mif\u001b[39;00m os\u001b[39m.\u001b[39mpath\u001b[39m.\u001b[39mexists(save_path):\n\u001b[1;32m     <a href='vscode-notebook-cell:/home/lewis/Documents/MastersProject/aegisk/stepbystep.ipynb#ch0000002?line=20'>21</a>\u001b[0m     load_path \u001b[39m=\u001b[39m save_path\n",
      "File \u001b[0;32m~/Documents/MastersProject/aegisk/aegis/util.py:176\u001b[0m, in \u001b[0;36mgenerate_save_filename\u001b[0;34m(time_name, problem_name, budget, n_workers, acq_name, run_no, bo_name, kill_name, problem_params, acq_params, killing_params, repeat_no, results_dir)\u001b[0m\n\u001b[1;32m    <a href='file:///home/lewis/Documents/MastersProject/aegisk/aegis/util.py?line=172'>173</a>\u001b[0m         acq_name \u001b[39m+\u001b[39m\u001b[39m=\u001b[39m \u001b[39mf\u001b[39m\u001b[39m\"\u001b[39m\u001b[39m-\u001b[39m\u001b[39m{\u001b[39;00m\u001b[39mfloat\u001b[39m(eta)\u001b[39m:\u001b[39;00m\u001b[39mg\u001b[39m\u001b[39m}\u001b[39;00m\u001b[39m\"\u001b[39m\n\u001b[1;32m    <a href='file:///home/lewis/Documents/MastersProject/aegisk/aegis/util.py?line=174'>175</a>\u001b[0m \u001b[39mif\u001b[39;00m \u001b[39m\"\u001b[39m\u001b[39mBatchBO\u001b[39m\u001b[39m\"\u001b[39m \u001b[39min\u001b[39;00m acq_name:\n\u001b[0;32m--> <a href='file:///home/lewis/Documents/MastersProject/aegisk/aegis/util.py?line=175'>176</a>\u001b[0m     acq_name \u001b[39m=\u001b[39m \u001b[39mf\u001b[39m\u001b[39m'\u001b[39m\u001b[39m{\u001b[39;00macq_name\u001b[39m:\u001b[39;00m\u001b[39ms\u001b[39m\u001b[39m}\u001b[39;00m\u001b[39m-\u001b[39m\u001b[39m{\u001b[39;00macq_params[\u001b[39m\"\u001b[39m\u001b[39macq_name\u001b[39m\u001b[39m\"\u001b[39m]\u001b[39m:\u001b[39;00m\u001b[39ms\u001b[39m\u001b[39m}\u001b[39;00m\u001b[39m'\u001b[39m\n\u001b[1;32m    <a href='file:///home/lewis/Documents/MastersProject/aegisk/aegis/util.py?line=177'>178</a>\u001b[0m fname_components \u001b[39m=\u001b[39m [\n\u001b[1;32m    <a href='file:///home/lewis/Documents/MastersProject/aegisk/aegis/util.py?line=178'>179</a>\u001b[0m     \u001b[39mf\u001b[39m\u001b[39m\"\u001b[39m\u001b[39m_\u001b[39m\u001b[39m{\u001b[39;00mbo_name\u001b[39m:\u001b[39;00m\u001b[39ms\u001b[39m\u001b[39m}\u001b[39;00m\u001b[39m\"\u001b[39m,\n\u001b[1;32m    <a href='file:///home/lewis/Documents/MastersProject/aegisk/aegis/util.py?line=179'>180</a>\u001b[0m     \u001b[39mf\u001b[39m\u001b[39m\"\u001b[39m\u001b[39m_\u001b[39m\u001b[39m{\u001b[39;00mkill_name\u001b[39m:\u001b[39;00m\u001b[39ms\u001b[39m\u001b[39m}\u001b[39;00m\u001b[39m\"\u001b[39m,\n\u001b[0;32m   (...)\u001b[0m\n\u001b[1;32m    <a href='file:///home/lewis/Documents/MastersProject/aegisk/aegis/util.py?line=187'>188</a>\u001b[0m     \u001b[39m\"\u001b[39m\u001b[39m.pt\u001b[39m\u001b[39m\"\u001b[39m,\n\u001b[1;32m    <a href='file:///home/lewis/Documents/MastersProject/aegisk/aegis/util.py?line=188'>189</a>\u001b[0m ]\n\u001b[1;32m    <a href='file:///home/lewis/Documents/MastersProject/aegisk/aegis/util.py?line=190'>191</a>\u001b[0m fname \u001b[39m=\u001b[39m \u001b[39m\"\u001b[39m\u001b[39m\"\u001b[39m\u001b[39m.\u001b[39mjoin(fname_components)\n",
      "\u001b[0;31mKeyError\u001b[0m: 'acq_name'"
     ]
    }
   ],
   "source": [
    "import aegis\n",
    "import torch\n",
    "import os\n",
    "from aegis import test_problems, time_dists, batch, optim\n",
    "\n",
    "# set up the saving paths\n",
    "save_path = aegis.util.generate_save_filename(\n",
    "    time_name,\n",
    "    problem_name,\n",
    "    budget,\n",
    "    n_workers,\n",
    "    acq_name,\n",
    "    run_no,\n",
    "    bo_name,\n",
    "    problem_params,\n",
    "    acq_params,\n",
    "    repeat_no=repeat_no,\n",
    ")\n",
    "\n",
    "if os.path.exists(save_path):\n",
    "    load_path = save_path\n",
    "    print(\"Loading saved run\")\n",
    "else:\n",
    "    load_path = aegis.util.generate_data_filename(\n",
    "        problem_name, run_no, problem_params, repeat_no=repeat_no\n",
    "    )\n",
    "\n",
    "# load the training data\n",
    "data = torch.load(load_path)\n",
    "Xtr = data[\"Xtr\"]\n",
    "Ytr = data[\"Ytr\"]\n",
    "\n",
    "# if it has additional arguments add them to the dictionary passed to f\n",
    "if \"problem_params\" in data:\n",
    "    problem_params.update(data[\"problem_params\"])\n",
    "\n",
    "print(f\"Training data shape: {Xtr.shape}\")\n",
    "\n",
    "# load the problem instance\n",
    "f = getattr(test_problems, problem_name)(**problem_params)\n",
    "\n",
    "# wrap the problem for torch and so that it resides in [0, 1]^d\n",
    "f = aegis.util.TorchProblem(aegis.util.UniformProblem(f))\n",
    "\n",
    "# instantiate the time function\n",
    "time_class = getattr(time_dists, time_name)\n",
    "\n",
    "# get the acquisition function class\n",
    "acq_class = getattr(batch, acq_name)\n",
    "\n",
    "# get the BO class\n",
    "asbo = getattr(optim, bo_name)\n",
    "\n",
    "# run the BO\n",
    "asbo = asbo(\n",
    "    f,\n",
    "    Xtr,\n",
    "    Ytr,\n",
    "    acq_class,\n",
    "    acq_params,\n",
    "    budget,\n",
    "    n_workers,\n",
    "    time_class,\n",
    "    q=1,\n",
    "    verbose=False,\n",
    ")"
   ]
  },
  {
   "cell_type": "code",
   "execution_count": 3,
   "metadata": {},
   "outputs": [
    {
     "name": "stderr",
     "output_type": "stream",
     "text": [
      "/home/lewis/anaconda3/envs/mp/lib/python3.10/site-packages/tqdm/auto.py:22: TqdmWarning: IProgress not found. Please update jupyter and ipywidgets. See https://ipywidgets.readthedocs.io/en/stable/user_install.html\n",
      "  from .autonotebook import tqdm as notebook_tqdm\n"
     ]
    },
    {
     "ename": "NameError",
     "evalue": "name 'asbo' is not defined",
     "output_type": "error",
     "traceback": [
      "\u001b[0;31m---------------------------------------------------------------------------\u001b[0m",
      "\u001b[0;31mNameError\u001b[0m                                 Traceback (most recent call last)",
      "\u001b[1;32m/home/lewis/Documents/MastersProject/aegisk/stepbystep.ipynb Cell 4'\u001b[0m in \u001b[0;36m<cell line: 6>\u001b[0;34m()\u001b[0m\n\u001b[1;32m      <a href='vscode-notebook-cell:/home/lewis/Documents/MastersProject/aegisk/stepbystep.ipynb#ch0000003?line=2'>3</a>\u001b[0m \u001b[39mimport\u001b[39;00m \u001b[39mnumpy\u001b[39;00m \u001b[39mas\u001b[39;00m \u001b[39mnp\u001b[39;00m\n\u001b[1;32m      <a href='vscode-notebook-cell:/home/lewis/Documents/MastersProject/aegisk/stepbystep.ipynb#ch0000003?line=3'>4</a>\u001b[0m \u001b[39mfrom\u001b[39;00m \u001b[39maegis\u001b[39;00m\u001b[39m.\u001b[39;00m\u001b[39mbatch\u001b[39;00m \u001b[39mimport\u001b[39;00m ratios\n\u001b[0;32m----> <a href='vscode-notebook-cell:/home/lewis/Documents/MastersProject/aegisk/stepbystep.ipynb#ch0000003?line=5'>6</a>\u001b[0m asbo\u001b[39m.\u001b[39mstep()\n\u001b[1;32m      <a href='vscode-notebook-cell:/home/lewis/Documents/MastersProject/aegisk/stepbystep.ipynb#ch0000003?line=7'>8</a>\u001b[0m res \u001b[39m=\u001b[39m asbo\u001b[39m.\u001b[39mget_results()\n\u001b[1;32m      <a href='vscode-notebook-cell:/home/lewis/Documents/MastersProject/aegisk/stepbystep.ipynb#ch0000003?line=8'>9</a>\u001b[0m models \u001b[39m=\u001b[39m asbo\u001b[39m.\u001b[39mget_models()\n",
      "\u001b[0;31mNameError\u001b[0m: name 'asbo' is not defined"
     ]
    }
   ],
   "source": [
    "import matplotlib.pyplot as plt\n",
    "import plotting\n",
    "import numpy as np\n",
    "from aegis.batch import ratios\n",
    "\n",
    "asbo.step()\n",
    "\n",
    "res = asbo.get_results()\n",
    "models = asbo.get_models()\n",
    "\n",
    "T_data = asbo.output_transform(asbo.Ytr)\n",
    "T_time = asbo.output_transform(asbo.time_taken)\n",
    "\n",
    "plt.rcParams['figure.figsize'] = [7, 7]\n",
    "\n",
    "fig, axs = plt.subplots(4)\n",
    "color = np.array([31, 119, 180])/255\n",
    "plotting.gp_plot(axs[0], models[\"ProblemModel\"], T_data, color=color)\n",
    "axs[0].set(title=\"Problem Model\")\n",
    "if \"CostModel\" in models:\n",
    "    plotting.gp_plot(axs[1], models[\"CostModel\"], T_time, color=color)\n",
    "    axs[1].set(title=\"Cost Model\")\n",
    "\n",
    "# Get EI for comparison\n",
    "acq_params = {\n",
    "    \"n_opt_samples\": 1 * 1000,\n",
    "    \"n_opt_bfgs\": 10,\n",
    "}\n",
    "EI = ratios.EI(\n",
    "    models[\"ProblemModel\"],\n",
    "    asbo.f.lb,\n",
    "    asbo.f.ub,\n",
    "    under_evaluation=asbo.ue.get(),\n",
    "    **acq_params,\n",
    ")\n",
    "plotting.acq_plot(axs[2], EI)\n",
    "axs[2].set(title=\"EI For Comparison\")\n",
    "\n",
    "asbo._update_acq()\n",
    "\n",
    "# Acq function we're using\n",
    "plotting.acq_plot(axs[3], asbo.acq)\n",
    "axs[3].set(title=\"Acqisition Function\")\n",
    "\n",
    "# Mark our choice\n",
    "plotting.mark_acq_choice_plot(axs, asbo.acq, color='red')\n",
    "\n",
    "# Mark ongoings\n",
    "for x in asbo.ue.get():\n",
    "    plotting.plot_vline_axes(axs, x, color=\"blue\")\n",
    "\n",
    "print(asbo.ue.get())\n",
    "\n",
    "# Mark EI's choice for comparison\n",
    "plotting.mark_acq_choice_plot(axs, EI, color='green')\n",
    "\n",
    "fig.tight_layout()"
   ]
  },
  {
   "cell_type": "code",
   "execution_count": null,
   "metadata": {},
   "outputs": [],
   "source": []
  }
 ],
 "metadata": {
  "interpreter": {
   "hash": "ac608b0de6d2b57ba453bbd118ae2874d3e13293c2f8b66759dd4b1be647c6fb"
  },
  "kernelspec": {
   "display_name": "Python 3.10.4 ('mp')",
   "language": "python",
   "name": "python3"
  },
  "language_info": {
   "codemirror_mode": {
    "name": "ipython",
    "version": 3
   },
   "file_extension": ".py",
   "mimetype": "text/x-python",
   "name": "python",
   "nbconvert_exporter": "python",
   "pygments_lexer": "ipython3",
   "version": "3.10.4"
  },
  "orig_nbformat": 4
 },
 "nbformat": 4,
 "nbformat_minor": 2
}
